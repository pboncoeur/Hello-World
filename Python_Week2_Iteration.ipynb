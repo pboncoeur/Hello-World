{
  "cells": [
    {
      "cell_type": "markdown",
      "metadata": {
        "id": "view-in-github",
        "colab_type": "text"
      },
      "source": [
        "<a href=\"https://colab.research.google.com/github/pboncoeur/Hello-World/blob/master/Python_Week2_Iteration.ipynb\" target=\"_parent\"><img src=\"https://colab.research.google.com/assets/colab-badge.svg\" alt=\"Open In Colab\"/></a>"
      ]
    },
    {
      "cell_type": "markdown",
      "id": "9e51a82e-05c2-4a51-a457-f02c89e62940",
      "metadata": {
        "id": "9e51a82e-05c2-4a51-a457-f02c89e62940"
      },
      "source": [
        "## ITERATION / REPETITION / LOOP"
      ]
    },
    {
      "cell_type": "markdown",
      "id": "06d96461-7b2b-4803-b89b-cd2a56e97300",
      "metadata": {
        "id": "06d96461-7b2b-4803-b89b-cd2a56e97300"
      },
      "source": [
        "- Loops are used to repeat the same action or set of actions multiple times\n",
        "- For Loop and While Loop in Python\n",
        "- Loops can be used to generate sequences or access data in a data collection (e.g. LISTS)\n",
        "- 3 info for a Loop to work: starting point/value, ending point/value and step/incrementation"
      ]
    },
    {
      "cell_type": "markdown",
      "id": "a61f8a86-537b-4351-85a5-98338e9ec1f6",
      "metadata": {
        "id": "a61f8a86-537b-4351-85a5-98338e9ec1f6"
      },
      "source": [
        "### Using Loop to access Data Collection"
      ]
    },
    {
      "cell_type": "code",
      "execution_count": null,
      "id": "ea8378e5-8bc5-492a-8602-4939e413aca9",
      "metadata": {
        "id": "ea8378e5-8bc5-492a-8602-4939e413aca9",
        "outputId": "dfba3e3a-2f42-4697-881b-a7e10a1c0e18"
      },
      "outputs": [
        {
          "name": "stdout",
          "output_type": "stream",
          "text": [
            "curtin\n",
            "Mauritius\n",
            "Australia\n"
          ]
        }
      ],
      "source": [
        "cti = [\"curtin\", \"Mauritius\", \"Australia\"]\n",
        "\n",
        "for x in cti:\n",
        "    print(x)"
      ]
    },
    {
      "cell_type": "markdown",
      "id": "4c753078-4241-414b-8366-12869c24551e",
      "metadata": {
        "id": "4c753078-4241-414b-8366-12869c24551e"
      },
      "source": [
        "#### Explanation\n",
        "\n",
        "- \"cti\" is a variable of type LIST.\n",
        "- This means that \"cti\" is assigned more than 1 value at the same time\n",
        "- The for loop is used to access each value assigned to \"cti\"\n",
        "- for x in cti : is similar to saying:\n",
        "- - when x = \"curtin\" => print(x)\n",
        "  - when x = \"Mauritius\"  => print(x)\n",
        "  - when x = \"Australia\"  => print(x)"
      ]
    },
    {
      "cell_type": "markdown",
      "id": "5dcf9a33-b79f-44b7-a77a-e4e9dfec583b",
      "metadata": {
        "id": "5dcf9a33-b79f-44b7-a77a-e4e9dfec583b"
      },
      "source": [
        "- The starting point is \"curtin\"\n",
        "- The ending point is \"Australia\"\n",
        "- The step is the next item in the LIST."
      ]
    },
    {
      "cell_type": "code",
      "execution_count": null,
      "id": "7d1fcc56-1ecc-49f0-bd57-c5eef2b42285",
      "metadata": {
        "id": "7d1fcc56-1ecc-49f0-bd57-c5eef2b42285",
        "outputId": "8d4a6481-2ef8-4d8b-d084-04bbd4adfff6"
      },
      "outputs": [
        {
          "name": "stdout",
          "output_type": "stream",
          "text": [
            "curtin\n",
            "Mauritius\n",
            "Australia\n",
            "END of LST\n"
          ]
        }
      ],
      "source": [
        "## Same code can be written as:\n",
        "\n",
        "for x in [\"curtin\", \"Mauritius\", \"Australia\"]:\n",
        "    print(x)\n",
        "\n",
        "print(\"END of LST\")"
      ]
    },
    {
      "cell_type": "markdown",
      "id": "e97b392e-cd04-4f9b-956d-16f285bc164c",
      "metadata": {
        "id": "e97b392e-cd04-4f9b-956d-16f285bc164c"
      },
      "source": [
        "### Keyword \"in\""
      ]
    },
    {
      "cell_type": "markdown",
      "id": "d00ce75b-c41d-4ba2-bc00-251134066fc8",
      "metadata": {
        "id": "d00ce75b-c41d-4ba2-bc00-251134066fc8"
      },
      "source": [
        "- \"in\" checks if teh item is indeed in the LIST\n",
        "- It returns a Boolean value"
      ]
    },
    {
      "cell_type": "code",
      "execution_count": null,
      "id": "b271fe17-b198-47bd-a34a-422da3522584",
      "metadata": {
        "id": "b271fe17-b198-47bd-a34a-422da3522584",
        "outputId": "39b843c6-c500-4a3c-8572-196a43d3a7f6"
      },
      "outputs": [
        {
          "name": "stdout",
          "output_type": "stream",
          "text": [
            "True\n"
          ]
        }
      ],
      "source": [
        "# Example\n",
        "\n",
        "print( \"curtin\" in cti )"
      ]
    },
    {
      "cell_type": "code",
      "execution_count": null,
      "id": "443c66d3-6361-4ff2-87ae-0d3c6acf6386",
      "metadata": {
        "id": "443c66d3-6361-4ff2-87ae-0d3c6acf6386"
      },
      "outputs": [],
      "source": []
    },
    {
      "cell_type": "markdown",
      "id": "04beabe8-b799-4913-ab5e-a8509288d3fb",
      "metadata": {
        "id": "04beabe8-b799-4913-ab5e-a8509288d3fb"
      },
      "source": [
        "### Using Loop with range()"
      ]
    },
    {
      "cell_type": "markdown",
      "id": "b0d033cb-9530-4cd6-acfc-77f3564ee3b8",
      "metadata": {
        "id": "b0d033cb-9530-4cd6-acfc-77f3564ee3b8"
      },
      "source": [
        "- range() is a function that can generate a sequence of values\n",
        "- format: range( starting point, ending point, step )\n",
        "- Example we want to generate a sequence of numbers from 1 to 10\n",
        "- - starting point: 1\n",
        "  - ending point: 10\n",
        "  - step: 1, because we want consecutive values, meaning that each value is increased by 1 to get the next value till 10\n",
        "\n",
        "- Note: the Ending point in range() IS NOT INCLUSIVE"
      ]
    },
    {
      "cell_type": "markdown",
      "id": "6a266c58-66a9-4e2f-934f-bb41dd002ec9",
      "metadata": {
        "id": "6a266c58-66a9-4e2f-934f-bb41dd002ec9"
      },
      "source": [
        "#### Write a program to print \"Hello\" five times"
      ]
    },
    {
      "cell_type": "code",
      "execution_count": null,
      "id": "ff268b1c-82b0-4c49-b701-b4eb3e8b01e9",
      "metadata": {
        "id": "ff268b1c-82b0-4c49-b701-b4eb3e8b01e9",
        "outputId": "7d5a5395-4614-45a4-ff8c-42711c357729"
      },
      "outputs": [
        {
          "name": "stdout",
          "output_type": "stream",
          "text": [
            "Hello\n",
            "Hello\n",
            "Hello\n",
            "Hello\n",
            "Hello\n"
          ]
        }
      ],
      "source": [
        "print(\"Hello\")\n",
        "print(\"Hello\")\n",
        "print(\"Hello\")\n",
        "print(\"Hello\")\n",
        "print(\"Hello\")"
      ]
    },
    {
      "cell_type": "markdown",
      "id": "2b9fb910-7cf7-4374-b76e-aad8921c8113",
      "metadata": {
        "id": "2b9fb910-7cf7-4374-b76e-aad8921c8113"
      },
      "source": [
        "#### OR the same program can be rewritten using LOOP"
      ]
    },
    {
      "cell_type": "markdown",
      "id": "d44af81c-5d0c-4ce5-99fe-804d1818c255",
      "metadata": {
        "id": "d44af81c-5d0c-4ce5-99fe-804d1818c255"
      },
      "source": [
        "- Starting point: 1\n",
        "- Ending point: 5\n",
        "- Step: 1"
      ]
    },
    {
      "cell_type": "code",
      "execution_count": null,
      "id": "dbaefd53-fbb9-4c23-886f-b88906403140",
      "metadata": {
        "id": "dbaefd53-fbb9-4c23-886f-b88906403140",
        "outputId": "b46f6fe1-aae6-4757-f06f-a30e62908e65"
      },
      "outputs": [
        {
          "name": "stdout",
          "output_type": "stream",
          "text": [
            "Hello\n",
            "Hello\n",
            "Hello\n",
            "Hello\n",
            "Hello\n"
          ]
        }
      ],
      "source": [
        "## CODES\n",
        "\n",
        "for i in range(1, 6, 1):\n",
        "    print(\"Hello\")"
      ]
    },
    {
      "cell_type": "markdown",
      "id": "2b9ad6e1-7c2e-4906-a1ed-e1aeab0477e2",
      "metadata": {
        "id": "2b9ad6e1-7c2e-4906-a1ed-e1aeab0477e2"
      },
      "source": [
        "#### Generate a sequence of numbers from 1 to 10"
      ]
    },
    {
      "cell_type": "code",
      "execution_count": null,
      "id": "11c8beaf-4021-4b20-b2ab-5d7e33f9682b",
      "metadata": {
        "id": "11c8beaf-4021-4b20-b2ab-5d7e33f9682b",
        "outputId": "ab648a1f-3071-4899-ef1a-54b621743fcb"
      },
      "outputs": [
        {
          "name": "stdout",
          "output_type": "stream",
          "text": [
            "1\n",
            "2\n",
            "3\n",
            "4\n",
            "5\n",
            "6\n",
            "7\n",
            "8\n",
            "9\n",
            "10\n",
            "End of sequence!!\n"
          ]
        }
      ],
      "source": [
        "# Example\n",
        "\n",
        "for x in range(1, 11, 1):\n",
        "    print(x)\n",
        "\n",
        "print(\"End of sequence!!\")"
      ]
    },
    {
      "cell_type": "markdown",
      "id": "66f8ea16-a230-4a51-a783-c418d7760f0a",
      "metadata": {
        "id": "66f8ea16-a230-4a51-a783-c418d7760f0a"
      },
      "source": [
        "### IMPORTANT\n",
        "\n",
        "- range(1, 11, 1)\n",
        "- range(1, 11)\n",
        "- range(11)"
      ]
    },
    {
      "cell_type": "code",
      "execution_count": null,
      "id": "d27e5523-83c4-48db-8545-619d9cf1743e",
      "metadata": {
        "id": "d27e5523-83c4-48db-8545-619d9cf1743e"
      },
      "outputs": [],
      "source": []
    },
    {
      "cell_type": "markdown",
      "id": "b18d35bb-62db-47e4-94b9-7164fed12517",
      "metadata": {
        "id": "b18d35bb-62db-47e4-94b9-7164fed12517"
      },
      "source": [
        "### EXAMPLE 1\n",
        "\n",
        "#### Write a program that will display the multiplication table of a number inserted by the user"
      ]
    },
    {
      "cell_type": "code",
      "execution_count": null,
      "id": "38af7875-c735-4b6f-9c92-520da2a2d0c3",
      "metadata": {
        "id": "38af7875-c735-4b6f-9c92-520da2a2d0c3",
        "outputId": "07e6121a-dfa2-424d-d2d4-0a6f10852d77"
      },
      "outputs": [
        {
          "name": "stdin",
          "output_type": "stream",
          "text": [
            "Enter a number =  6\n"
          ]
        },
        {
          "name": "stdout",
          "output_type": "stream",
          "text": [
            "1 x 6 = 6\n",
            "2 x 6 = 12\n",
            "3 x 6 = 18\n",
            "4 x 6 = 24\n",
            "5 x 6 = 30\n",
            "6 x 6 = 36\n",
            "7 x 6 = 42\n",
            "8 x 6 = 48\n",
            "9 x 6 = 54\n",
            "10 x 6 = 60\n",
            "11 x 6 = 66\n",
            "12 x 6 = 72\n"
          ]
        }
      ],
      "source": [
        "# CODES\n",
        "\n",
        "num = input(\"Enter a number = \")\n",
        "num = int(num)\n",
        "\n",
        "for i in range(1, 13, 1):\n",
        "    print( i, \"x\", num, \"=\", num*i )"
      ]
    },
    {
      "cell_type": "code",
      "execution_count": null,
      "id": "82e79390-62ab-4eb8-9bca-a57f3b73a701",
      "metadata": {
        "id": "82e79390-62ab-4eb8-9bca-a57f3b73a701"
      },
      "outputs": [],
      "source": []
    },
    {
      "cell_type": "markdown",
      "id": "2bce1235-7c4c-45c1-8f19-2ebc374ee6ac",
      "metadata": {
        "id": "2bce1235-7c4c-45c1-8f19-2ebc374ee6ac"
      },
      "source": [
        "### EXAMPLE 2\n",
        "\n",
        "#### Given the LIST [2, 55 ,73, 101, 33, 21], write a program to print all the EVEN numbers."
      ]
    },
    {
      "cell_type": "markdown",
      "id": "f87417b1-f3d0-4dbf-9b1e-18fd0e39ed19",
      "metadata": {
        "id": "f87417b1-f3d0-4dbf-9b1e-18fd0e39ed19"
      },
      "source": [
        "#### Solution\n",
        "\n",
        "- INPUT: List (already given)\n",
        "- OUTPUT: EVEN number(s)\n",
        "- ALGORITHM:\n",
        "- - Access each item of the list\n",
        "  - Check if the number is EVEN\n",
        "  - If it is EVEN, print the number"
      ]
    },
    {
      "cell_type": "markdown",
      "id": "835cdfe8-cc19-450e-ba2d-acf825e48544",
      "metadata": {
        "id": "835cdfe8-cc19-450e-ba2d-acf825e48544"
      },
      "source": [
        "#### Version 1"
      ]
    },
    {
      "cell_type": "code",
      "execution_count": null,
      "id": "05d2eac9-87ca-4073-9755-2ca3a33cb433",
      "metadata": {
        "id": "05d2eac9-87ca-4073-9755-2ca3a33cb433",
        "outputId": "2f3869e3-e7b0-4c29-959b-0d512cbd7e61"
      },
      "outputs": [
        {
          "name": "stdout",
          "output_type": "stream",
          "text": [
            "2 is EVEN\n"
          ]
        }
      ],
      "source": [
        "## CODES\n",
        "\n",
        "for x in [2, 55 ,73, 101, 33, 21]:\n",
        "\n",
        "    if x % 2 == 0:\n",
        "        print( x, \"is EVEN\" )"
      ]
    },
    {
      "cell_type": "markdown",
      "id": "cd7e0959-d34f-42e6-95d9-2b17b185a241",
      "metadata": {
        "id": "cd7e0959-d34f-42e6-95d9-2b17b185a241"
      },
      "source": [
        "#### Version 2"
      ]
    },
    {
      "cell_type": "code",
      "execution_count": null,
      "id": "1a9e8a01-a971-43bc-97ca-34a80e0c9ff4",
      "metadata": {
        "id": "1a9e8a01-a971-43bc-97ca-34a80e0c9ff4",
        "outputId": "ecd68734-8f6e-43ac-ac13-26b33a416572"
      },
      "outputs": [
        {
          "name": "stdout",
          "output_type": "stream",
          "text": [
            "2 is EVEN\n",
            "55 is ODD\n",
            "73 is ODD\n",
            "101 is ODD\n",
            "33 is ODD\n",
            "21 is ODD\n"
          ]
        }
      ],
      "source": [
        "## If the number is NOT EVEN, then it is ODD\n",
        "## CODES\n",
        "\n",
        "for x in [2, 55 ,73, 101, 33, 21]:\n",
        "\n",
        "    if x % 2 == 0:\n",
        "        print( x, \"is EVEN\" )\n",
        "    else:\n",
        "        print( x, \"is ODD\" )"
      ]
    }
  ],
  "metadata": {
    "kernelspec": {
      "display_name": "Python 3 (ipykernel)",
      "language": "python",
      "name": "python3"
    },
    "language_info": {
      "codemirror_mode": {
        "name": "ipython",
        "version": 3
      },
      "file_extension": ".py",
      "mimetype": "text/x-python",
      "name": "python",
      "nbconvert_exporter": "python",
      "pygments_lexer": "ipython3",
      "version": "3.10.12"
    },
    "colab": {
      "provenance": [],
      "include_colab_link": true
    }
  },
  "nbformat": 4,
  "nbformat_minor": 5
}